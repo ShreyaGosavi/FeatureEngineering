{
 "cells": [
  {
   "cell_type": "code",
   "execution_count": 55,
   "id": "ced2940b-a382-46df-b3e1-ddf5ca76c281",
   "metadata": {},
   "outputs": [],
   "source": [
    "import numpy as np\n",
    "import pandas as pd"
   ]
  },
  {
   "cell_type": "code",
   "execution_count": 57,
   "id": "c53819cd-5c11-4765-ae86-92fb4186f7f2",
   "metadata": {},
   "outputs": [],
   "source": [
    "from sklearn.impute import SimpleImputer\n",
    "from sklearn.preprocessing import OneHotEncoder\n",
    "from sklearn.preprocessing import OrdinalEncoder"
   ]
  },
  {
   "cell_type": "code",
   "execution_count": 59,
   "id": "10aadc3a-7c1c-44dc-a7e3-124bf4bf1d15",
   "metadata": {},
   "outputs": [
    {
     "data": {
      "text/html": [
       "<div>\n",
       "<style scoped>\n",
       "    .dataframe tbody tr th:only-of-type {\n",
       "        vertical-align: middle;\n",
       "    }\n",
       "\n",
       "    .dataframe tbody tr th {\n",
       "        vertical-align: top;\n",
       "    }\n",
       "\n",
       "    .dataframe thead th {\n",
       "        text-align: right;\n",
       "    }\n",
       "</style>\n",
       "<table border=\"1\" class=\"dataframe\">\n",
       "  <thead>\n",
       "    <tr style=\"text-align: right;\">\n",
       "      <th></th>\n",
       "      <th>age</th>\n",
       "      <th>gender</th>\n",
       "      <th>fever</th>\n",
       "      <th>cough</th>\n",
       "      <th>city</th>\n",
       "      <th>has_covid</th>\n",
       "    </tr>\n",
       "  </thead>\n",
       "  <tbody>\n",
       "    <tr>\n",
       "      <th>91</th>\n",
       "      <td>38</td>\n",
       "      <td>Male</td>\n",
       "      <td>NaN</td>\n",
       "      <td>Mild</td>\n",
       "      <td>Delhi</td>\n",
       "      <td>Yes</td>\n",
       "    </tr>\n",
       "    <tr>\n",
       "      <th>18</th>\n",
       "      <td>64</td>\n",
       "      <td>Female</td>\n",
       "      <td>98.0</td>\n",
       "      <td>Mild</td>\n",
       "      <td>Bangalore</td>\n",
       "      <td>Yes</td>\n",
       "    </tr>\n",
       "    <tr>\n",
       "      <th>31</th>\n",
       "      <td>83</td>\n",
       "      <td>Male</td>\n",
       "      <td>103.0</td>\n",
       "      <td>Mild</td>\n",
       "      <td>Kolkata</td>\n",
       "      <td>No</td>\n",
       "    </tr>\n",
       "    <tr>\n",
       "      <th>83</th>\n",
       "      <td>17</td>\n",
       "      <td>Female</td>\n",
       "      <td>104.0</td>\n",
       "      <td>Mild</td>\n",
       "      <td>Kolkata</td>\n",
       "      <td>No</td>\n",
       "    </tr>\n",
       "    <tr>\n",
       "      <th>30</th>\n",
       "      <td>15</td>\n",
       "      <td>Male</td>\n",
       "      <td>101.0</td>\n",
       "      <td>Mild</td>\n",
       "      <td>Delhi</td>\n",
       "      <td>Yes</td>\n",
       "    </tr>\n",
       "  </tbody>\n",
       "</table>\n",
       "</div>"
      ],
      "text/plain": [
       "    age  gender  fever cough       city has_covid\n",
       "91   38    Male    NaN  Mild      Delhi       Yes\n",
       "18   64  Female   98.0  Mild  Bangalore       Yes\n",
       "31   83    Male  103.0  Mild    Kolkata        No\n",
       "83   17  Female  104.0  Mild    Kolkata        No\n",
       "30   15    Male  101.0  Mild      Delhi       Yes"
      ]
     },
     "execution_count": 59,
     "metadata": {},
     "output_type": "execute_result"
    }
   ],
   "source": [
    "df = pd.read_csv(\"covid_toy.csv\")\n",
    "df.sample(5)"
   ]
  },
  {
   "cell_type": "code",
   "execution_count": 86,
   "id": "ffe3e72d-a9e9-4af2-995f-202ade973efa",
   "metadata": {},
   "outputs": [
    {
     "data": {
      "text/plain": [
       "age           0\n",
       "gender        0\n",
       "fever        10\n",
       "cough         0\n",
       "city          0\n",
       "has_covid     0\n",
       "dtype: int64"
      ]
     },
     "execution_count": 86,
     "metadata": {},
     "output_type": "execute_result"
    }
   ],
   "source": [
    "df.isnull().sum()"
   ]
  },
  {
   "cell_type": "code",
   "execution_count": 88,
   "id": "0de057aa-405f-4cf8-b117-15d769a4932a",
   "metadata": {},
   "outputs": [
    {
     "data": {
      "text/plain": [
       "(80, 5)"
      ]
     },
     "execution_count": 88,
     "metadata": {},
     "output_type": "execute_result"
    }
   ],
   "source": [
    "from sklearn.model_selection import train_test_split\n",
    "X_train, X_test, y_train, y_test = train_test_split(df.drop(columns = [\"has_covid\"]), df['has_covid'], test_size = 0.2, random_state = 0)\n",
    "X_train.shape"
   ]
  },
  {
   "cell_type": "markdown",
   "id": "a4d0c38a-0ec1-4ad4-9b46-46a17059fe91",
   "metadata": {},
   "source": [
    "## Jobs to do:\n",
    "- handle missing values from the fever column\n",
    "- gender and city column -> one hot encoding\n",
    "- cough -> ordinal encoding\n",
    "- can do label encoding for the has_covid column"
   ]
  },
  {
   "cell_type": "code",
   "execution_count": 91,
   "id": "92ddc18d-4d88-481e-9a68-6b46349f0860",
   "metadata": {},
   "outputs": [
    {
     "data": {
      "text/plain": [
       "(80, 1)"
      ]
     },
     "execution_count": 91,
     "metadata": {},
     "output_type": "execute_result"
    }
   ],
   "source": [
    "# Handling missing values\n",
    "si = SimpleImputer()\n",
    "X_train_fever = si.fit_transform(X_train[['fever']])\n",
    "X_test_fever = si.fit_transform(X_test[['fever']])\n",
    "\n",
    "X_train_fever.shape  # numpy ka array hai"
   ]
  },
  {
   "cell_type": "code",
   "execution_count": 93,
   "id": "d0a70baf-701f-4246-abf0-175d52d4e8ed",
   "metadata": {},
   "outputs": [
    {
     "data": {
      "text/plain": [
       "(80, 1)"
      ]
     },
     "execution_count": 93,
     "metadata": {},
     "output_type": "execute_result"
    }
   ],
   "source": [
    "# Ordinal encoding -> cough\n",
    "oe = OrdinalEncoder(categories = [[\"Mild\", \"Strong\"]])\n",
    "\n",
    "X_train_cough = oe.fit_transform(X_train[['cough']])\n",
    "X_test_cough = oe.fit_transform(X_test[['cough']])\n",
    "\n",
    "X_train_cough.shape # numpy ka array hai"
   ]
  },
  {
   "cell_type": "code",
   "execution_count": 137,
   "id": "1b90348b-7f96-48d0-a307-bc423ad712d3",
   "metadata": {},
   "outputs": [
    {
     "data": {
      "text/html": [
       "<div>\n",
       "<style scoped>\n",
       "    .dataframe tbody tr th:only-of-type {\n",
       "        vertical-align: middle;\n",
       "    }\n",
       "\n",
       "    .dataframe tbody tr th {\n",
       "        vertical-align: top;\n",
       "    }\n",
       "\n",
       "    .dataframe thead th {\n",
       "        text-align: right;\n",
       "    }\n",
       "</style>\n",
       "<table border=\"1\" class=\"dataframe\">\n",
       "  <thead>\n",
       "    <tr style=\"text-align: right;\">\n",
       "      <th></th>\n",
       "      <th>city_Delhi</th>\n",
       "      <th>city_Kolkata</th>\n",
       "      <th>city_Mumbai</th>\n",
       "    </tr>\n",
       "  </thead>\n",
       "  <tbody>\n",
       "    <tr>\n",
       "      <th>43</th>\n",
       "      <td>0.0</td>\n",
       "      <td>0.0</td>\n",
       "      <td>0.0</td>\n",
       "    </tr>\n",
       "    <tr>\n",
       "      <th>62</th>\n",
       "      <td>0.0</td>\n",
       "      <td>0.0</td>\n",
       "      <td>0.0</td>\n",
       "    </tr>\n",
       "    <tr>\n",
       "      <th>3</th>\n",
       "      <td>0.0</td>\n",
       "      <td>1.0</td>\n",
       "      <td>0.0</td>\n",
       "    </tr>\n",
       "    <tr>\n",
       "      <th>71</th>\n",
       "      <td>1.0</td>\n",
       "      <td>0.0</td>\n",
       "      <td>0.0</td>\n",
       "    </tr>\n",
       "    <tr>\n",
       "      <th>45</th>\n",
       "      <td>0.0</td>\n",
       "      <td>0.0</td>\n",
       "      <td>0.0</td>\n",
       "    </tr>\n",
       "    <tr>\n",
       "      <th>...</th>\n",
       "      <td>...</td>\n",
       "      <td>...</td>\n",
       "      <td>...</td>\n",
       "    </tr>\n",
       "    <tr>\n",
       "      <th>96</th>\n",
       "      <td>0.0</td>\n",
       "      <td>1.0</td>\n",
       "      <td>0.0</td>\n",
       "    </tr>\n",
       "    <tr>\n",
       "      <th>67</th>\n",
       "      <td>0.0</td>\n",
       "      <td>0.0</td>\n",
       "      <td>0.0</td>\n",
       "    </tr>\n",
       "    <tr>\n",
       "      <th>64</th>\n",
       "      <td>0.0</td>\n",
       "      <td>0.0</td>\n",
       "      <td>1.0</td>\n",
       "    </tr>\n",
       "    <tr>\n",
       "      <th>47</th>\n",
       "      <td>0.0</td>\n",
       "      <td>0.0</td>\n",
       "      <td>0.0</td>\n",
       "    </tr>\n",
       "    <tr>\n",
       "      <th>44</th>\n",
       "      <td>1.0</td>\n",
       "      <td>0.0</td>\n",
       "      <td>0.0</td>\n",
       "    </tr>\n",
       "  </tbody>\n",
       "</table>\n",
       "<p>80 rows × 3 columns</p>\n",
       "</div>"
      ],
      "text/plain": [
       "    city_Delhi  city_Kolkata  city_Mumbai\n",
       "43         0.0           0.0          0.0\n",
       "62         0.0           0.0          0.0\n",
       "3          0.0           1.0          0.0\n",
       "71         1.0           0.0          0.0\n",
       "45         0.0           0.0          0.0\n",
       "..         ...           ...          ...\n",
       "96         0.0           1.0          0.0\n",
       "67         0.0           0.0          0.0\n",
       "64         0.0           0.0          1.0\n",
       "47         0.0           0.0          0.0\n",
       "44         1.0           0.0          0.0\n",
       "\n",
       "[80 rows x 3 columns]"
      ]
     },
     "execution_count": 137,
     "metadata": {},
     "output_type": "execute_result"
    }
   ],
   "source": [
    "# OneHotEncoding -> gender and city\n",
    "ohe = OneHotEncoder(drop='first')\n",
    "\n",
    "X_train_gender = ohe.fit_transform(X_train[['gender']])\n",
    "X_train_city = ohe.fit_transform(X_train[['city']])\n",
    "\n",
    "X_test_gender = ohe.fit_transform(X_test[['gender']])\n",
    "X_test_city = ohe.fit_transform(X_test[['city']])\n",
    "\n",
    "city_columns = ohe.get_feature_names_out(['city'])\n",
    "X_train_city_df = pd.DataFrame(X_train_city.toarray(), columns=city_columns, index=X_train.index)\n",
    "X_train_city_df"
   ]
  },
  {
   "cell_type": "code",
   "execution_count": 97,
   "id": "557cd7f6-6812-4fa2-9d64-c7b2ce17a4fa",
   "metadata": {},
   "outputs": [
    {
     "data": {
      "text/plain": [
       "(80, 1)"
      ]
     },
     "execution_count": 97,
     "metadata": {},
     "output_type": "execute_result"
    }
   ],
   "source": [
    "# extracting the left alone age column\n",
    "X_train_age = X_train.drop(columns=['gender','fever','cough','city']).values\n",
    "\n",
    "X_test_age = X_test.drop(columns=['gender','fever','cough','city']).values\n",
    "\n",
    "X_train_age.shape"
   ]
  },
  {
   "cell_type": "code",
   "execution_count": 157,
   "id": "dfd8aab8-5880-441f-b86c-8331cf1bb1f8",
   "metadata": {},
   "outputs": [
    {
     "data": {
      "text/plain": [
       "(80, 7)"
      ]
     },
     "execution_count": 157,
     "metadata": {},
     "output_type": "execute_result"
    }
   ],
   "source": [
    "X_train_transformed = np.concatenate((X_train_age,X_train_fever,X_train_gender.toarray(),X_train_city_df.values,X_train_cough),axis=1)\n",
    "\n",
    "#X_test_transformed = np.concatenate((X_test_age,X_test_fever,X_test_gender,X_test_city,X_test_cough),axis=1)\n",
    "\n",
    "X_train_transformed.shape"
   ]
  },
  {
   "cell_type": "markdown",
   "id": "2f071da5-63a1-4e0b-a230-4c4aa98ff524",
   "metadata": {},
   "source": [
    "## Using Column transformers"
   ]
  },
  {
   "cell_type": "code",
   "execution_count": 151,
   "id": "02919a1d-4fd3-4ace-8580-4a11feec9960",
   "metadata": {},
   "outputs": [],
   "source": [
    "from sklearn.compose import ColumnTransformer\n",
    "transformer = ColumnTransformer(transformers=[\n",
    "    ('tnf1',SimpleImputer(),['fever']),\n",
    "    ('tnf2',OrdinalEncoder(categories=[['Mild','Strong']]),['cough']),\n",
    "    ('tnf3',OneHotEncoder(drop='first'),['gender','city'])\n",
    "],remainder='passthrough')"
   ]
  },
  {
   "cell_type": "code",
   "execution_count": 153,
   "id": "4ea92308-a387-477e-890f-15fa3626343e",
   "metadata": {},
   "outputs": [
    {
     "data": {
      "text/plain": [
       "(80, 7)"
      ]
     },
     "execution_count": 153,
     "metadata": {},
     "output_type": "execute_result"
    }
   ],
   "source": [
    "transformer.fit_transform(X_train).shape\n"
   ]
  },
  {
   "cell_type": "code",
   "execution_count": 155,
   "id": "4745725f-85a3-4e11-bf13-64fad5bffe80",
   "metadata": {},
   "outputs": [
    {
     "data": {
      "text/plain": [
       "(20, 7)"
      ]
     },
     "execution_count": 155,
     "metadata": {},
     "output_type": "execute_result"
    }
   ],
   "source": [
    "transformer.transform(X_test).shape"
   ]
  },
  {
   "cell_type": "code",
   "execution_count": null,
   "id": "1776f0b8-a692-4f0a-bf3d-9f1f837cafdb",
   "metadata": {},
   "outputs": [],
   "source": []
  }
 ],
 "metadata": {
  "kernelspec": {
   "display_name": "Python 3 (ipykernel)",
   "language": "python",
   "name": "python3"
  },
  "language_info": {
   "codemirror_mode": {
    "name": "ipython",
    "version": 3
   },
   "file_extension": ".py",
   "mimetype": "text/x-python",
   "name": "python",
   "nbconvert_exporter": "python",
   "pygments_lexer": "ipython3",
   "version": "3.12.7"
  }
 },
 "nbformat": 4,
 "nbformat_minor": 5
}
